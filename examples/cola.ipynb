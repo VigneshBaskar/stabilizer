{
 "cells": [
  {
   "cell_type": "code",
   "execution_count": 1,
   "id": "4711a347-ce50-4a05-a829-18ef64f17f15",
   "metadata": {},
   "outputs": [],
   "source": [
    "# Replace this with pip install stabilizer\n",
    "import sys\n",
    "sys.path.insert(0, '..')"
   ]
  },
  {
   "cell_type": "code",
   "execution_count": 2,
   "id": "9a1de7f4-a718-4e64-b9a4-f7a35ba036f5",
   "metadata": {},
   "outputs": [],
   "source": [
    "import torch\n",
    "import pandas as pd\n",
    "\n",
    "from stabilizer.dataset import TextLabelDataset"
   ]
  },
  {
   "cell_type": "code",
   "execution_count": 3,
   "id": "fac70052-c951-47cb-8bb7-8aeb07d34bfd",
   "metadata": {},
   "outputs": [],
   "source": [
    "config = {'train_data_path': '../data/glue/cola/train.jsonl',\n",
    "          'valid_data_path': '../data/glue/cola/valid.jsonl'}"
   ]
  },
  {
   "cell_type": "code",
   "execution_count": 4,
   "id": "43c828fd-2701-4115-bc52-db4c0070dd18",
   "metadata": {},
   "outputs": [],
   "source": [
    "# Read training data\n",
    "train_data = pd.read_json(path_or_buf=config['train_data_path'], lines=True).set_index(\"idx\")\n",
    "valid_data = pd.read_json(path_or_buf=config['valid_data_path'], lines=True).set_index(\"idx\")"
   ]
  },
  {
   "cell_type": "code",
   "execution_count": 5,
   "id": "58f07e34-c703-4fb1-a9ae-729410dd6604",
   "metadata": {},
   "outputs": [],
   "source": [
    "# Prepare data to create dataset\n",
    "train_text_excerpts = train_data['text'].tolist()\n",
    "valid_text_excerpts = valid_data['text'].tolist()\n",
    "train_labels = torch.from_numpy(train_data['label'].to_numpy().reshape(-1, 1)).type(torch.float32)\n",
    "valid_labels = torch.from_numpy(valid_data['label'].to_numpy().reshape(-1, 1)).type(torch.float32)"
   ]
  },
  {
   "cell_type": "code",
   "execution_count": 6,
   "id": "5e4bcbf3-5ecf-47f2-90ef-67983ad3cc29",
   "metadata": {},
   "outputs": [],
   "source": [
    "# Create Dataset\n",
    "train_dataset = TextLabelDataset(text_excerpts=train_text_excerpts, labels=train_labels)\n",
    "valid_dataset = TextLabelDataset(text_excerpts=valid_text_excerpts, labels=valid_labels)"
   ]
  }
 ],
 "metadata": {
  "kernelspec": {
   "display_name": "stabilizer",
   "language": "python",
   "name": "stabilizer"
  },
  "language_info": {
   "codemirror_mode": {
    "name": "ipython",
    "version": 3
   },
   "file_extension": ".py",
   "mimetype": "text/x-python",
   "name": "python",
   "nbconvert_exporter": "python",
   "pygments_lexer": "ipython3",
   "version": "3.7.10"
  }
 },
 "nbformat": 4,
 "nbformat_minor": 5
}
