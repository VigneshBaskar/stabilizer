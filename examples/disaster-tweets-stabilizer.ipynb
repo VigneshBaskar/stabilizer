{
 "cells": [
  {
   "cell_type": "markdown",
   "source": [
    "## Imports"
   ],
   "metadata": {}
  },
  {
   "cell_type": "code",
   "execution_count": 2,
   "source": [
    "import pandas as pd\n",
    "import numpy as np\n",
    "from torch import nn\n",
    "from torch.utils.data import DataLoader,Dataset\n",
    "from stabilizer.model import PoolerClassifier\n",
    "from stabilizer.llrd import get_optimizer_parameters_with_llrd\n",
    "from stabilizer.reinitialize import reinit_autoencoder_model\n",
    "from stabilizer.dataset import TextLabelDataset\n",
    "from stabilizer.trainer import train_step,evaluate_step\n",
    "from sklearn.model_selection import train_test_split\n",
    "import torch\n",
    "from transformers import AutoModel,AutoTokenizer\n",
    "from sklearn.metrics import f1_score\n",
    "from transformers import get_scheduler\n",
    "from torch.optim import AdamW\n",
    "import random"
   ],
   "outputs": [
    {
     "output_type": "stream",
     "name": "stderr",
     "text": [
      "2021-09-27 09:48:57.887343: I tensorflow/stream_executor/platform/default/dso_loader.cc:49] Successfully opened dynamic library libcudart.so.11.0\n"
     ]
    }
   ],
   "metadata": {
    "execution": {
     "iopub.execute_input": "2021-09-27T09:48:55.519700Z",
     "iopub.status.busy": "2021-09-27T09:48:55.519062Z",
     "iopub.status.idle": "2021-09-27T09:49:02.035181Z",
     "shell.execute_reply": "2021-09-27T09:49:02.034101Z",
     "shell.execute_reply.started": "2021-09-27T07:20:23.599516Z"
    },
    "papermill": {
     "duration": 6.54162,
     "end_time": "2021-09-27T09:49:02.035359",
     "exception": false,
     "start_time": "2021-09-27T09:48:55.493739",
     "status": "completed"
    },
    "tags": []
   }
  },
  {
   "cell_type": "markdown",
   "source": [
    "## Setting SEED"
   ],
   "metadata": {}
  },
  {
   "cell_type": "code",
   "execution_count": 3,
   "source": [
    "\n",
    "def seed_everything(seed):\n",
    "    random.seed(seed)\n",
    "    os.environ['PYTHONASSEED'] = str(seed)\n",
    "    np.random.seed(seed)\n",
    "    torch.manual_seed(seed)\n",
    "    torch.cuda.manual_seed(seed)\n",
    "    torch.cuda.manual_seed_all(seed)\n",
    "    torch.backends.cudnn.deterministic = True\n",
    "    torch.backends.cudnn.benchmark = True"
   ],
   "outputs": [],
   "metadata": {
    "execution": {
     "iopub.execute_input": "2021-09-27T09:49:02.071943Z",
     "iopub.status.busy": "2021-09-27T09:49:02.069729Z",
     "iopub.status.idle": "2021-09-27T09:49:02.072706Z",
     "shell.execute_reply": "2021-09-27T09:49:02.073215Z",
     "shell.execute_reply.started": "2021-09-27T07:20:28.823549Z"
    },
    "papermill": {
     "duration": 0.023611,
     "end_time": "2021-09-27T09:49:02.073361",
     "exception": false,
     "start_time": "2021-09-27T09:49:02.049750",
     "status": "completed"
    },
    "tags": []
   }
  },
  {
   "cell_type": "markdown",
   "source": [
    "## Training configurations"
   ],
   "metadata": {}
  },
  {
   "cell_type": "code",
   "execution_count": null,
   "source": [
    "config = {\n",
    "    'pretrained_model':'roberta-base',\n",
    "    'num_classes':1,\n",
    "    'batch_size':32,\n",
    "    'device_name':torch.device('cuda'),\n",
    "    'lr':1e-5,\n",
    "    'mutliplicative_lr':0.95,\n",
    "    'llrd':False,\n",
    "    'reinit':2,\n",
    "    'epochs':3,\n",
    "    'valid_every':15,\n",
    "    'scheduler':'linear',\n",
    "    'seed':1000\n",
    "}\n",
    "\n",
    "seed_everything(config['seed'])"
   ],
   "outputs": [],
   "metadata": {
    "execution": {
     "iopub.execute_input": "2021-09-27T09:49:02.113687Z",
     "iopub.status.busy": "2021-09-27T09:49:02.112553Z",
     "iopub.status.idle": "2021-09-27T09:49:02.536091Z",
     "shell.execute_reply": "2021-09-27T09:49:02.535419Z",
     "shell.execute_reply.started": "2021-09-27T07:20:31.309831Z"
    },
    "papermill": {
     "duration": 0.448079,
     "end_time": "2021-09-27T09:49:02.536387",
     "exception": true,
     "start_time": "2021-09-27T09:49:02.088308",
     "status": "failed"
    },
    "tags": []
   }
  },
  {
   "cell_type": "markdown",
   "source": [
    "## Read data"
   ],
   "metadata": {}
  },
  {
   "cell_type": "code",
   "execution_count": null,
   "source": [
    "train_df = pd.read_csv(\"../input/nlp-getting-started/train.csv\")\n",
    "test_df = pd.read_csv(\"../input/nlp-getting-started/test.csv\")"
   ],
   "outputs": [],
   "metadata": {
    "execution": {
     "iopub.execute_input": "2021-09-27T07:20:45.899662Z",
     "iopub.status.busy": "2021-09-27T07:20:45.899198Z",
     "iopub.status.idle": "2021-09-27T07:20:45.99456Z",
     "shell.execute_reply": "2021-09-27T07:20:45.99378Z",
     "shell.execute_reply.started": "2021-09-27T07:20:45.899619Z"
    },
    "papermill": {
     "duration": null,
     "end_time": null,
     "exception": null,
     "start_time": null,
     "status": "pending"
    },
    "tags": []
   }
  },
  {
   "cell_type": "code",
   "execution_count": null,
   "source": [
    "print(f\"train dataset has {train_df.shape[0]} samples\")\n",
    "train_df.head(5)"
   ],
   "outputs": [],
   "metadata": {
    "execution": {
     "iopub.execute_input": "2021-09-27T07:20:46.000825Z",
     "iopub.status.busy": "2021-09-27T07:20:45.998807Z",
     "iopub.status.idle": "2021-09-27T07:20:46.03393Z",
     "shell.execute_reply": "2021-09-27T07:20:46.033253Z",
     "shell.execute_reply.started": "2021-09-27T07:20:46.000787Z"
    },
    "papermill": {
     "duration": null,
     "end_time": null,
     "exception": null,
     "start_time": null,
     "status": "pending"
    },
    "tags": []
   }
  },
  {
   "cell_type": "markdown",
   "source": [
    "## Data preparation"
   ],
   "metadata": {}
  },
  {
   "cell_type": "code",
   "execution_count": null,
   "source": [
    "train,valid = train_test_split(train_df,test_size=0.2,stratify=train_df['target'])"
   ],
   "outputs": [],
   "metadata": {
    "execution": {
     "iopub.execute_input": "2021-09-27T07:20:46.040371Z",
     "iopub.status.busy": "2021-09-27T07:20:46.038407Z",
     "iopub.status.idle": "2021-09-27T07:20:46.064552Z",
     "shell.execute_reply": "2021-09-27T07:20:46.06369Z",
     "shell.execute_reply.started": "2021-09-27T07:20:46.040334Z"
    },
    "papermill": {
     "duration": null,
     "end_time": null,
     "exception": null,
     "start_time": null,
     "status": "pending"
    },
    "tags": []
   }
  },
  {
   "cell_type": "code",
   "execution_count": null,
   "source": [
    "# Prepate data to create dataset\n",
    "train_tweets = train_df['text'].tolist()\n",
    "valid_tweets = train_df['text'].tolist()\n",
    "train_targets = torch.from_numpy(train_df['target'].to_numpy().reshape(-1, 1)).type(torch.float32)\n",
    "valid_targets = torch.from_numpy(train_df['target'].to_numpy().reshape(-1, 1)).type(torch.float32)"
   ],
   "outputs": [],
   "metadata": {
    "execution": {
     "iopub.execute_input": "2021-09-27T07:20:46.070923Z",
     "iopub.status.busy": "2021-09-27T07:20:46.068631Z",
     "iopub.status.idle": "2021-09-27T07:20:46.081818Z",
     "shell.execute_reply": "2021-09-27T07:20:46.080783Z",
     "shell.execute_reply.started": "2021-09-27T07:20:46.070887Z"
    },
    "papermill": {
     "duration": null,
     "end_time": null,
     "exception": null,
     "start_time": null,
     "status": "pending"
    },
    "tags": []
   }
  },
  {
   "cell_type": "code",
   "execution_count": null,
   "source": [
    "# Create Dataset and DataLoader\n",
    "train_dataset = TextLabelDataset(text_excerpts=train_tweets, labels=train_targets)\n",
    "valid_dataset = TextLabelDataset(text_excerpts=valid_tweets, labels=valid_targets)\n",
    "\n",
    "train_dataloader = DataLoader(dataset=train_dataset, batch_size=config['batch_size'], shuffle=True)\n",
    "valid_dataloader = DataLoader(dataset=valid_dataset, batch_size=config['batch_size'], shuffle=False)\n"
   ],
   "outputs": [],
   "metadata": {
    "execution": {
     "iopub.execute_input": "2021-09-27T07:20:46.090211Z",
     "iopub.status.busy": "2021-09-27T07:20:46.087395Z",
     "iopub.status.idle": "2021-09-27T07:20:46.098858Z",
     "shell.execute_reply": "2021-09-27T07:20:46.097786Z",
     "shell.execute_reply.started": "2021-09-27T07:20:46.090162Z"
    },
    "papermill": {
     "duration": null,
     "end_time": null,
     "exception": null,
     "start_time": null,
     "status": "pending"
    },
    "tags": []
   }
  },
  {
   "cell_type": "markdown",
   "source": [
    "## Loss function and competition metric"
   ],
   "metadata": {}
  },
  {
   "cell_type": "code",
   "execution_count": null,
   "source": [
    "loss_fn = nn.BCEWithLogitsLoss()\n",
    "metric = f1_score\n"
   ],
   "outputs": [],
   "metadata": {
    "execution": {
     "iopub.execute_input": "2021-09-27T07:20:46.107595Z",
     "iopub.status.busy": "2021-09-27T07:20:46.104697Z",
     "iopub.status.idle": "2021-09-27T07:20:46.11443Z",
     "shell.execute_reply": "2021-09-27T07:20:46.11349Z",
     "shell.execute_reply.started": "2021-09-27T07:20:46.107554Z"
    },
    "papermill": {
     "duration": null,
     "end_time": null,
     "exception": null,
     "start_time": null,
     "status": "pending"
    },
    "tags": []
   }
  },
  {
   "cell_type": "markdown",
   "source": [
    "## Train and Evaluate"
   ],
   "metadata": {}
  },
  {
   "cell_type": "code",
   "execution_count": null,
   "source": [
    "def train_and_eval(train_dataloader,valid_dataloader):\n",
    "    \n",
    "    tokenizer = AutoTokenizer.from_pretrained(config['pretrained_model'])\n",
    "    transformer = AutoModel.from_pretrained(config['pretrained_model'])\n",
    "    model = PoolerClassifier(transformer=transformer,\n",
    "                             transformer_output_size=transformer.config.hidden_size,\n",
    "                             transformer_output_dropout_prob=transformer.config.hidden_dropout_prob,\n",
    "                             num_classes=config['num_classes']\n",
    "                        )\n",
    "    device = torch.device(config['device_name'])\n",
    "    _ = model.to(device)\n",
    "    \n",
    "    \n",
    "    if config['llrd']:\n",
    "        parameters = get_optimizer_parameters_with_llrd(model,config['lr'],config['multiplicative_lr'])\n",
    "        \n",
    "    else:\n",
    "        no_decay = ['bias','layerNorm.weight']\n",
    "        parameters = [{'params':[p for n,p in model.named_parameters() if not any(k in n for k in no_decay)],\n",
    "                     'weight_decay':0.01,'lr':config['lr']},\n",
    "                      {'params':[p for n,p in model.named_parameters() if any(k in n for k in no_decay)],\n",
    "                     'weight_decay':0.00,'lr':config['lr']}]\n",
    "        \n",
    "    if config['reinit']:\n",
    "        model = reinit_autoencoder_model(model,config['reinit'])\n",
    "        \n",
    "    optimizer = AdamW(parameters)\n",
    "\n",
    "    num_training_steps = config['epochs'] * len(train_dataloader)\n",
    "    scheduler = get_scheduler(name=config['scheduler'],num_training_steps=num_training_steps,\n",
    "                              num_warmup_steps=int(0.1*num_training_steps),optimizer=optimizer)\n",
    "    num_iter=0\n",
    "    for epoch in range(config['epochs']):\n",
    "        train_f1,train_loss = 0.0,0.0\n",
    "        for batch in train_dataloader:\n",
    "            inputs = tokenizer(batch['text_excerpt'],padding=True, truncation=True,return_tensors='pt').to(config['device_name'])\n",
    "            targets = batch['label'].to(config['device_name'])\n",
    "            train_outputs = train_step(model=model, inputs=inputs, targets=targets, loss_fn=loss_fn, optimizer=optimizer,\n",
    "                                        scheduler=scheduler)\n",
    "            #train_f1 += metric(targets.detach().cpu().numpy(),train_outputs['predictions'].detach().cpu().numpy())\n",
    "            train_loss += train_outputs['loss']\n",
    "            if num_iter % config['valid_every'] == 0:\n",
    "                valid_f1,valid_loss = 0.0,0.0\n",
    "                for valid_batch in  valid_dataloader:\n",
    "                    inputs = tokenizer(valid_batch['text_excerpt'],padding=True, truncation=True,return_tensors='pt').to(config['device_name'])\n",
    "                    targets = valid_batch['label'].to(config['device_name'])\n",
    "                    valid_outputs = evaluate_step(model=model, inputs=inputs, targets=targets, loss_fn=loss_fn)\n",
    "                    predictions = (nn.Sigmoid()(valid_outputs['predictions'])).detach().cpu().numpy()\n",
    "                    \n",
    "                    valid_f1 += metric(targets.detach().cpu().numpy(),np.round(predictions),average='micro')\n",
    "                    valid_loss += valid_outputs['loss']\n",
    "                print(\"validation f1 score\",valid_f1/len(valid_dataloader))\n",
    "                print(\"validation loss\",valid_loss.item()/len(valid_dataloader))\n",
    "            num_iter+=1\n",
    "\n",
    "            \n",
    "        print(f\"Train epoch {epoch} loss {train_loss.item()/len(train_dataloader)}\")\n",
    "        #print(f\"Train epoch {epoch} f1 score {train_f1/len(train_dataloader)}\")   "
   ],
   "outputs": [],
   "metadata": {
    "execution": {
     "iopub.execute_input": "2021-09-27T07:20:46.122399Z",
     "iopub.status.busy": "2021-09-27T07:20:46.120121Z",
     "iopub.status.idle": "2021-09-27T07:20:46.151613Z",
     "shell.execute_reply": "2021-09-27T07:20:46.15077Z",
     "shell.execute_reply.started": "2021-09-27T07:20:46.122364Z"
    },
    "papermill": {
     "duration": null,
     "end_time": null,
     "exception": null,
     "start_time": null,
     "status": "pending"
    },
    "tags": []
   }
  },
  {
   "cell_type": "code",
   "execution_count": null,
   "source": [
    "train_and_eval(train_dataloader,valid_dataloader)"
   ],
   "outputs": [],
   "metadata": {
    "execution": {
     "iopub.execute_input": "2021-09-27T07:20:46.160515Z",
     "iopub.status.busy": "2021-09-27T07:20:46.1574Z"
    },
    "papermill": {
     "duration": null,
     "end_time": null,
     "exception": null,
     "start_time": null,
     "status": "pending"
    },
    "tags": []
   }
  },
  {
   "cell_type": "code",
   "execution_count": null,
   "source": [],
   "outputs": [],
   "metadata": {
    "papermill": {
     "duration": null,
     "end_time": null,
     "exception": null,
     "start_time": null,
     "status": "pending"
    },
    "tags": []
   }
  }
 ],
 "metadata": {
  "kernelspec": {
   "display_name": "Python 3",
   "language": "python",
   "name": "python3"
  },
  "language_info": {
   "codemirror_mode": {
    "name": "ipython",
    "version": 3
   },
   "file_extension": ".py",
   "mimetype": "text/x-python",
   "name": "python",
   "nbconvert_exporter": "python",
   "pygments_lexer": "ipython3",
   "version": "3.7.10"
  },
  "papermill": {
   "default_parameters": {},
   "duration": 162.769315,
   "end_time": "2021-09-27T09:49:05.713195",
   "environment_variables": {},
   "exception": true,
   "input_path": "__notebook__.ipynb",
   "output_path": "__notebook__.ipynb",
   "parameters": {},
   "start_time": "2021-09-27T09:46:22.943880",
   "version": "2.3.3"
  }
 },
 "nbformat": 4,
 "nbformat_minor": 5
}